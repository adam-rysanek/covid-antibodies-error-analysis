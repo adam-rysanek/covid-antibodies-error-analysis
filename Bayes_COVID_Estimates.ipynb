{
  "nbformat": 4,
  "nbformat_minor": 0,
  "metadata": {
    "colab": {
      "name": "Copy of Bayes_COVID_Estimates.ipynb",
      "provenance": [],
      "collapsed_sections": [],
      "toc_visible": true
    },
    "kernelspec": {
      "name": "python3",
      "display_name": "Python 3"
    }
  },
  "cells": [
    {
      "cell_type": "markdown",
      "metadata": {
        "id": "gjiQlEbIEZUx",
        "colab_type": "text"
      },
      "source": [
        "### **Towards better estimates of recovered COVID-19 cases** \n",
        "###Appendix: Estimating prevalence from known specificities and sensitivities\n",
        "\n",
        "In this section, we'll tease out a verification of the Stanford / Santa Clara study just from this equation alone. The authors of that study stated that 50 out of 3,300 samples (or ~1.5%) tested postive for antibodies. Though they went as far as calling this the \"unadjusted prevalence\" of antibodies across their test population, we already know this cannot be true. This can only be considered the number that tested positive in one field study. Thus, barring other evidence to the contrary, we might only be able to assume that $\\frac{50}{3300}$ is our best initial guess of $p(T^+)$, such that:\n",
        "\n",
        "$p(T^+) = \\frac{50}{3300} = 0.01515 \\approx 1.5 \\%$.\n",
        "\n",
        "We now need estimates of the specificity and sensitivity. Here is where the authors of the Stanford study deserve credit. They actually provided estimates of these parameters in their study, based on their test's manufacturer's data and their own corrections. (One should give them credit as I've found that few successively-broadcasted / widely-reported serological test results have made such information at least as transparent as the Stanford study). The study's authors provided estimates for the specificity and sensitivity of their test results to be: $Se = 0.803$ and $Sp = 0.995$. This is all the information we might need to make a determinstic (i.e., single-shot) estimate of the true prevalence of COVID-19 antibodies across the test population:\n",
        "\n",
        "$ Pv = \\dfrac{0.01515 + 0.995 - 1}{0.803 + 0.995 - 1}$\n",
        "\n",
        "$ Pv = 0.0127 \\approx 1.3 \\%$\n",
        "\n",
        "Now this is interesting. We've made a point estimate of COVID-19 antibody prevalence across the population sampled by the Stanford / Santa Clara study and we seem to find it to be lower than what the authors of the study themselves claimed - but admittedly not by much. Another way of looking at this is that although 50 individuals tested positive for COVID-19 antibodies, if we feel we know the test's sensitivity and specificity with absolute certainty, only 42 individuals might have actually possessed antibodies for COVID-19 at the time of their testing. \n",
        "\n",
        "But... and this is the big But...\n",
        "\n",
        "Though the above calculation doesn't sound like a significant correction off the Stanford study's key result, we could only accept this result as the 'real' prevalence if, and only if, the sensitivity and specificity of the test would be known with 100% certainty. \n"
      ]
    }
  ]
}